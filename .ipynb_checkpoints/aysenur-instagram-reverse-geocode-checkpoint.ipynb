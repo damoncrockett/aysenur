{
 "cells": [
  {
   "cell_type": "markdown",
   "metadata": {},
   "source": [
    "# Data prep"
   ]
  },
  {
   "cell_type": "markdown",
   "metadata": {},
   "source": [
    "#### import some modules we'll need"
   ]
  },
  {
   "cell_type": "code",
   "execution_count": 285,
   "metadata": {
    "collapsed": true
   },
   "outputs": [],
   "source": [
    "import pandas as pd\n",
    "import requests\n",
    "import numpy as np\n",
    "from collections import Counter\n",
    "import codecs"
   ]
  },
  {
   "cell_type": "markdown",
   "metadata": {},
   "source": [
    "#### read in data tables"
   ]
  },
  {
   "cell_type": "code",
   "execution_count": 246,
   "metadata": {
    "collapsed": false
   },
   "outputs": [],
   "source": [
    "df = pd.read_csv(\"LETTHEKIDS Cleaned CSV GEOTAGS.csv\")"
   ]
  },
  {
   "cell_type": "code",
   "execution_count": 247,
   "metadata": {
    "collapsed": false
   },
   "outputs": [],
   "source": [
    "d = pd.read_csv(\"fk_comments corrected Geotags.csv\",header=None)"
   ]
  },
  {
   "cell_type": "markdown",
   "metadata": {},
   "source": [
    "#### clean up tables"
   ]
  },
  {
   "cell_type": "code",
   "execution_count": 248,
   "metadata": {
    "collapsed": false
   },
   "outputs": [],
   "source": [
    "d = d.iloc[:,:12] # this removes empty columns"
   ]
  },
  {
   "cell_type": "code",
   "execution_count": 249,
   "metadata": {
    "collapsed": false
   },
   "outputs": [],
   "source": [
    "# the fk_comments file had no header, so I compared columns with other file to get header\n",
    "\n",
    "d.rename(columns = {\n",
    "        0:\"id\",\n",
    "        1:\"guid\",\n",
    "        2:\"link\",\n",
    "        3:\"medialink\",\n",
    "        4:\"pubdate\",\n",
    "        5:\"author\",\n",
    "        6:\"title\",\n",
    "        7:\"description\",\n",
    "        8:\"like_count\",\n",
    "        9:\"filter\",\n",
    "        10:\"coords\",\n",
    "        11:\"not_sure_what_this_is\"\n",
    "    },\n",
    "        inplace=True)"
   ]
  },
  {
   "cell_type": "markdown",
   "metadata": {},
   "source": [
    "#### Design our API call; make a test call to make sure it works"
   ]
  },
  {
   "cell_type": "code",
   "execution_count": 250,
   "metadata": {
    "collapsed": false
   },
   "outputs": [],
   "source": [
    "BASEURL = \"https://maps.googleapis.com/maps/api/geocode/json?\"\n",
    "KEY=\"key=\" # you'll need to get an API key and put it here"
   ]
  },
  {
   "cell_type": "code",
   "execution_count": 251,
   "metadata": {
    "collapsed": false
   },
   "outputs": [
    {
     "data": {
      "text/plain": [
       "'-22.5617,-47.4028'"
      ]
     },
     "execution_count": 251,
     "metadata": {},
     "output_type": "execute_result"
    }
   ],
   "source": [
    "df.coords.iloc[15]"
   ]
  },
  {
   "cell_type": "code",
   "execution_count": 252,
   "metadata": {
    "collapsed": true
   },
   "outputs": [],
   "source": [
    "qstring = BASEURL+KEY+\"&latlng=\"+df.coords.iloc[15] # this string is our API call"
   ]
  },
  {
   "cell_type": "code",
   "execution_count": 253,
   "metadata": {
    "collapsed": true
   },
   "outputs": [],
   "source": [
    "r = requests.get(qstring) # this is the actual http request"
   ]
  },
  {
   "cell_type": "code",
   "execution_count": 254,
   "metadata": {
    "collapsed": false
   },
   "outputs": [
    {
     "name": "stdout",
     "output_type": "stream",
     "text": [
      "Limeira Brazil\n"
     ]
    }
   ],
   "source": [
    "# this code takes the API response, parses the json, and extracts locality and country\n",
    "\n",
    "ac = r.json()['results'][0]['address_components']\n",
    "locality = [item['long_name'] for item in ac if 'locality' in item['types']][0]\n",
    "country = [item['long_name'] for item in ac if 'country' in item['types']][0]\n",
    "print locality,country"
   ]
  },
  {
   "cell_type": "markdown",
   "metadata": {},
   "source": [
    "# Make API calls"
   ]
  },
  {
   "cell_type": "markdown",
   "metadata": {},
   "source": [
    "### Requests for first dataset"
   ]
  },
  {
   "cell_type": "code",
   "execution_count": 255,
   "metadata": {
    "collapsed": true
   },
   "outputs": [],
   "source": [
    "address_components_list = []\n",
    "errors = []"
   ]
  },
  {
   "cell_type": "code",
   "execution_count": 256,
   "metadata": {
    "collapsed": false
   },
   "outputs": [
    {
     "name": "stdout",
     "output_type": "stream",
     "text": [
      "3224\n",
      "3355\n",
      "4592\n",
      "6139\n",
      "6733\n",
      "7071\n",
      "7517\n",
      "8441\n",
      "12986\n",
      "13462\n",
      "13864\n",
      "16061\n",
      "17932\n",
      "18725\n",
      "23169\n",
      "23920\n"
     ]
    }
   ],
   "source": [
    "for i in df.index:\n",
    "    coords = df.coords.loc[i]\n",
    "    \n",
    "    if np.random.binomial(1,0.001)==1: \n",
    "        print i # printing roughly every thousandth index; this is to monitor progress and is nonessential\n",
    "    \n",
    "    try:\n",
    "        coords.split(\",\")[1] # a trick to ignore any missing coords\n",
    "        qstring = BASEURL+KEY+\"&latlng=\"+coords\n",
    "        r = requests.get(qstring)\n",
    "        address_components = r.json()['results'][0]['address_components']\n",
    "        address_components_list.append(address_components)\n",
    "    except Exception as e:\n",
    "        errors.append((i,e))\n",
    "        address_components_list.append('missing')  "
   ]
  },
  {
   "cell_type": "markdown",
   "metadata": {},
   "source": [
    "### Extracting country and locality"
   ]
  },
  {
   "cell_type": "code",
   "execution_count": 262,
   "metadata": {
    "collapsed": true
   },
   "outputs": [],
   "source": [
    "countries = []"
   ]
  },
  {
   "cell_type": "code",
   "execution_count": 263,
   "metadata": {
    "collapsed": true
   },
   "outputs": [],
   "source": [
    "for address_components in address_components_list:\n",
    "    try:\n",
    "        country = [item['long_name'] for item in address_components if 'country' in item['types']][0]\n",
    "        countries.append(country)\n",
    "    except:\n",
    "        countries.append('missing')"
   ]
  },
  {
   "cell_type": "code",
   "execution_count": 264,
   "metadata": {
    "collapsed": false
   },
   "outputs": [],
   "source": [
    "df['country'] = countries"
   ]
  },
  {
   "cell_type": "code",
   "execution_count": 265,
   "metadata": {
    "collapsed": true
   },
   "outputs": [],
   "source": [
    "localities = []"
   ]
  },
  {
   "cell_type": "code",
   "execution_count": 266,
   "metadata": {
    "collapsed": false
   },
   "outputs": [],
   "source": [
    "for address_components in address_components_list:\n",
    "    try:\n",
    "        locality = [item['long_name'] for item in address_components if 'locality' in item['types']][0]\n",
    "        localities.append(locality)\n",
    "    except:\n",
    "        localities.append('missing')"
   ]
  },
  {
   "cell_type": "code",
   "execution_count": 267,
   "metadata": {
    "collapsed": false
   },
   "outputs": [],
   "source": [
    "df['locality'] = localities"
   ]
  },
  {
   "cell_type": "code",
   "execution_count": 274,
   "metadata": {
    "collapsed": false
   },
   "outputs": [
    {
     "data": {
      "text/plain": [
       "4060"
      ]
     },
     "execution_count": 274,
     "metadata": {},
     "output_type": "execute_result"
    }
   ],
   "source": [
    "len(df[df.country!='missing'])"
   ]
  },
  {
   "cell_type": "code",
   "execution_count": 275,
   "metadata": {
    "collapsed": false
   },
   "outputs": [
    {
     "data": {
      "text/plain": [
       "3815"
      ]
     },
     "execution_count": 275,
     "metadata": {},
     "output_type": "execute_result"
    }
   ],
   "source": [
    "len(df[df.locality!='missing'])"
   ]
  },
  {
   "cell_type": "code",
   "execution_count": 276,
   "metadata": {
    "collapsed": false
   },
   "outputs": [
    {
     "data": {
      "text/plain": [
       "4060"
      ]
     },
     "execution_count": 276,
     "metadata": {},
     "output_type": "execute_result"
    }
   ],
   "source": [
    "len(df[df.coords.notnull()])"
   ]
  },
  {
   "cell_type": "code",
   "execution_count": 272,
   "metadata": {
    "collapsed": false
   },
   "outputs": [],
   "source": [
    "df['address_components'] = address_components_list"
   ]
  },
  {
   "cell_type": "code",
   "execution_count": 277,
   "metadata": {
    "collapsed": false
   },
   "outputs": [
    {
     "data": {
      "text/plain": [
       "4060"
      ]
     },
     "execution_count": 277,
     "metadata": {},
     "output_type": "execute_result"
    }
   ],
   "source": [
    "len(df[df.address_components!='missing'])"
   ]
  },
  {
   "cell_type": "code",
   "execution_count": 279,
   "metadata": {
    "collapsed": false
   },
   "outputs": [],
   "source": [
    "del df['address_components']"
   ]
  },
  {
   "cell_type": "code",
   "execution_count": 287,
   "metadata": {
    "collapsed": false
   },
   "outputs": [],
   "source": [
    "dftmp = df.replace('missing',np.nan)"
   ]
  },
  {
   "cell_type": "code",
   "execution_count": 288,
   "metadata": {
    "collapsed": false
   },
   "outputs": [
    {
     "name": "stdout",
     "output_type": "stream",
     "text": [
      "<class 'pandas.core.frame.DataFrame'>\n",
      "RangeIndex: 25332 entries, 0 to 25331\n",
      "Data columns (total 16 columns):\n",
      "id                    25332 non-null int64\n",
      "guid                  25332 non-null object\n",
      "link                  25332 non-null object\n",
      "medialink             25332 non-null object\n",
      "pubdate               25332 non-null object\n",
      "author                25332 non-null object\n",
      "title                 25071 non-null object\n",
      "description           25071 non-null object\n",
      "like_count            25332 non-null int64\n",
      "filter                25332 non-null object\n",
      "to                    0 non-null float64\n",
      "coords                4060 non-null object\n",
      "title_cleaned         0 non-null float64\n",
      "like_count_cleaned    0 non-null float64\n",
      "country               4060 non-null object\n",
      "locality              3815 non-null object\n",
      "dtypes: float64(3), int64(2), object(11)\n",
      "memory usage: 3.1+ MB\n"
     ]
    }
   ],
   "source": [
    "dftmp.info()"
   ]
  },
  {
   "cell_type": "markdown",
   "metadata": {},
   "source": [
    "### Dealing with encoding issues"
   ]
  },
  {
   "cell_type": "code",
   "execution_count": 464,
   "metadata": {
    "collapsed": false
   },
   "outputs": [],
   "source": [
    "dftmp = dftmp.fillna('missing')"
   ]
  },
  {
   "cell_type": "code",
   "execution_count": 466,
   "metadata": {
    "collapsed": false
   },
   "outputs": [],
   "source": [
    "# this is a hack, but I tried everything else and nothing would work...\n",
    "dftmp.locality = dftmp.locality.map(lambda x: x.encode('unicode-escape').decode('utf-8'))"
   ]
  },
  {
   "cell_type": "code",
   "execution_count": 468,
   "metadata": {
    "collapsed": false
   },
   "outputs": [],
   "source": [
    "dftmp.to_csv(\"letthekids_country_locality.csv\",index=False)"
   ]
  },
  {
   "cell_type": "markdown",
   "metadata": {},
   "source": [
    "### Requests for second dataset"
   ]
  },
  {
   "cell_type": "code",
   "execution_count": 470,
   "metadata": {
    "collapsed": true
   },
   "outputs": [],
   "source": [
    "address_components_list_2 = []"
   ]
  },
  {
   "cell_type": "code",
   "execution_count": 471,
   "metadata": {
    "collapsed": false
   },
   "outputs": [
    {
     "name": "stdout",
     "output_type": "stream",
     "text": [
      "770\n",
      "1331\n",
      "1555\n",
      "1903\n",
      "2371\n",
      "3274\n",
      "3448\n",
      "7185\n",
      "7540\n",
      "8159\n",
      "8299\n",
      "9098\n",
      "9813\n",
      "11952\n",
      "12630\n",
      "14370\n",
      "15246\n",
      "15961\n",
      "17618\n",
      "17943\n",
      "22201\n",
      "23504\n",
      "25044\n",
      "26273\n",
      "27061\n",
      "27369\n",
      "29451\n",
      "29635\n",
      "29950\n",
      "30811\n"
     ]
    }
   ],
   "source": [
    "for i in d.index:\n",
    "    coords = d.coords.loc[i]\n",
    "    \n",
    "    if np.random.binomial(1,0.001)==1: \n",
    "        print i # printing roughly every thousandth index; this is to monitor progress and is nonessential\n",
    "    \n",
    "    try:\n",
    "        coords.split(\",\")[1] # a trick to ignore any missing coords\n",
    "        qstring = BASEURL+KEY+\"&latlng=\"+coords\n",
    "        r = requests.get(qstring)\n",
    "        address_components = r.json()['results'][0]['address_components']\n",
    "        address_components_list_2.append(address_components)\n",
    "        \n",
    "    except Exception as e:\n",
    "        errors.append((i,e))\n",
    "        address_components_list_2.append('missing') "
   ]
  },
  {
   "cell_type": "code",
   "execution_count": 472,
   "metadata": {
    "collapsed": true
   },
   "outputs": [],
   "source": [
    "countries = []"
   ]
  },
  {
   "cell_type": "code",
   "execution_count": 473,
   "metadata": {
    "collapsed": true
   },
   "outputs": [],
   "source": [
    "for address_components in address_components_list_2:\n",
    "    try:\n",
    "        country = [item['long_name'] for item in address_components if 'country' in item['types']][0]\n",
    "        countries.append(country)\n",
    "    except:\n",
    "        countries.append('missing')"
   ]
  },
  {
   "cell_type": "code",
   "execution_count": 474,
   "metadata": {
    "collapsed": false
   },
   "outputs": [],
   "source": [
    "d['country'] = countries"
   ]
  },
  {
   "cell_type": "code",
   "execution_count": 475,
   "metadata": {
    "collapsed": true
   },
   "outputs": [],
   "source": [
    "localities = []"
   ]
  },
  {
   "cell_type": "code",
   "execution_count": 476,
   "metadata": {
    "collapsed": false
   },
   "outputs": [],
   "source": [
    "for address_components in address_components_list_2:\n",
    "    try:\n",
    "        locality = [item['long_name'] for item in address_components if 'locality' in item['types']][0]\n",
    "        localities.append(locality)\n",
    "    except:\n",
    "        localities.append('missing')"
   ]
  },
  {
   "cell_type": "code",
   "execution_count": 477,
   "metadata": {
    "collapsed": false
   },
   "outputs": [],
   "source": [
    "d['locality'] = localities"
   ]
  },
  {
   "cell_type": "code",
   "execution_count": 478,
   "metadata": {
    "collapsed": false
   },
   "outputs": [
    {
     "data": {
      "text/plain": [
       "3424"
      ]
     },
     "execution_count": 478,
     "metadata": {},
     "output_type": "execute_result"
    }
   ],
   "source": [
    "len(d[d.country!='missing'])"
   ]
  },
  {
   "cell_type": "code",
   "execution_count": 480,
   "metadata": {
    "collapsed": false
   },
   "outputs": [
    {
     "data": {
      "text/plain": [
       "3435"
      ]
     },
     "execution_count": 480,
     "metadata": {},
     "output_type": "execute_result"
    }
   ],
   "source": [
    "len(d[d.coords.notnull()])"
   ]
  },
  {
   "cell_type": "code",
   "execution_count": 482,
   "metadata": {
    "collapsed": false
   },
   "outputs": [],
   "source": [
    "d = d.fillna('missing')"
   ]
  },
  {
   "cell_type": "code",
   "execution_count": 483,
   "metadata": {
    "collapsed": true
   },
   "outputs": [],
   "source": [
    "d.locality = d.locality.map(lambda x: x.encode('unicode-escape').decode('utf-8'))"
   ]
  },
  {
   "cell_type": "code",
   "execution_count": 485,
   "metadata": {
    "collapsed": true
   },
   "outputs": [],
   "source": [
    "d.country = d.country.map(lambda x: x.encode('unicode-escape').decode('utf-8'))"
   ]
  },
  {
   "cell_type": "code",
   "execution_count": 486,
   "metadata": {
    "collapsed": false
   },
   "outputs": [],
   "source": [
    "d.to_csv(\"fkcomments_country_locality.csv\",index=False)"
   ]
  }
 ],
 "metadata": {
  "kernelspec": {
   "display_name": "Python 2",
   "language": "python",
   "name": "python2"
  },
  "language_info": {
   "codemirror_mode": {
    "name": "ipython",
    "version": 2
   },
   "file_extension": ".py",
   "mimetype": "text/x-python",
   "name": "python",
   "nbconvert_exporter": "python",
   "pygments_lexer": "ipython2",
   "version": "2.7.10"
  }
 },
 "nbformat": 4,
 "nbformat_minor": 0
}
